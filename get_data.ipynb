{
 "metadata": {
  "language_info": {
   "codemirror_mode": {
    "name": "ipython",
    "version": 3
   },
   "file_extension": ".py",
   "mimetype": "text/x-python",
   "name": "python",
   "nbconvert_exporter": "python",
   "pygments_lexer": "ipython3",
   "version": "3.8.5-final"
  },
  "orig_nbformat": 2,
  "kernelspec": {
   "name": "Python 3.8.5 64-bit ('base': conda)",
   "display_name": "Python 3.8.5 64-bit ('base': conda)",
   "metadata": {
    "interpreter": {
     "hash": "1acac09ef8c33cc367c1d0e43990ee4b30de4cd0d9602da48472e27b3d2c725d"
    }
   }
  }
 },
 "nbformat": 4,
 "nbformat_minor": 2,
 "cells": [
  {
   "cell_type": "code",
   "execution_count": 1,
   "metadata": {},
   "outputs": [],
   "source": [
    "import pandas as pd\n",
    "import fundamentus as fund\n",
    "from visions.functional import cast_to_inferred, detect_type, infer_type\n",
    "from visions.typesets import CompleteSet\n",
    "\n",
    "lista = pd.read_csv('fundamentus.csv')"
   ]
  },
  {
   "cell_type": "code",
   "execution_count": 2,
   "metadata": {},
   "outputs": [
    {
     "output_type": "stream",
     "name": "stderr",
     "text": [
      "100%|██████████| 439/439 [03:46<00:00,  1.94it/s]CPU times: user 45.1 s, sys: 406 ms, total: 45.5 s\n",
      "Wall time: 3min 46s\n",
      "\n"
     ]
    }
   ],
   "source": [
    "%%time\n",
    "\n",
    "lista = fund.get_data()"
   ]
  },
  {
   "cell_type": "code",
   "execution_count": 4,
   "metadata": {},
   "outputs": [
    {
     "output_type": "execute_result",
     "data": {
      "text/plain": [
       "                                 setor  qtd acoes\n",
       "9                     Energia Elétrica         67\n",
       "12                         Financeiros         48\n",
       "6              Construção e Engenharia         39\n",
       "32       Tecidos, Vestuário e Calçados         29\n",
       "4                             Comércio         22\n",
       "20             Máquinas e Equipamentos         17\n",
       "31             Siderurgia e Metalurgia         16\n",
       "11               Exploração de Imóveis         16\n",
       "18              Material de Transporte         14\n",
       "1                            Alimentos         13\n",
       "34                          Transporte         13\n",
       "27                            Químicos         12\n",
       "28                               Saúde         12\n",
       "24               Previdência e Seguros         11\n",
       "16                     Madeira e Papel         10\n",
       "14             Holdings Diversificadas         10\n",
       "7                             Diversos          8\n",
       "23     Petróleo, Gás e Biocombustíveis          8\n",
       "33                    Telecomunicações          7\n",
       "5              Comércio e Distribuição          7\n",
       "29                            Serviços          7\n",
       "35               Utilidades Domésticas          6\n",
       "37                   Água e Saneamento          6\n",
       "22                              Outros          5\n",
       "36                     Viagens e Lazer          5\n",
       "26                Programas e Serviços          5\n",
       "25  Prods. de Uso Pessoal e de Limpeza          4\n",
       "30       Serviços Financeiros Diversos          3\n",
       "0                         Agropecuária          3\n",
       "15               Hoteis e Restaurantes          3\n",
       "13                                 Gás          3\n",
       "21                               Mídia          2\n",
       "8                           Embalagens          2\n",
       "19                           Mineração          2\n",
       "17                  Materiais Diversos          1\n",
       "10              Equipamentos Elétricos          1\n",
       "3          Computadores e Equipamentos          1\n",
       "2                              Bebidas          1"
      ],
      "text/html": "<div>\n<style scoped>\n    .dataframe tbody tr th:only-of-type {\n        vertical-align: middle;\n    }\n\n    .dataframe tbody tr th {\n        vertical-align: top;\n    }\n\n    .dataframe thead th {\n        text-align: right;\n    }\n</style>\n<table border=\"1\" class=\"dataframe\">\n  <thead>\n    <tr style=\"text-align: right;\">\n      <th></th>\n      <th>setor</th>\n      <th>qtd acoes</th>\n    </tr>\n  </thead>\n  <tbody>\n    <tr>\n      <th>9</th>\n      <td>Energia Elétrica</td>\n      <td>67</td>\n    </tr>\n    <tr>\n      <th>12</th>\n      <td>Financeiros</td>\n      <td>48</td>\n    </tr>\n    <tr>\n      <th>6</th>\n      <td>Construção e Engenharia</td>\n      <td>39</td>\n    </tr>\n    <tr>\n      <th>32</th>\n      <td>Tecidos, Vestuário e Calçados</td>\n      <td>29</td>\n    </tr>\n    <tr>\n      <th>4</th>\n      <td>Comércio</td>\n      <td>22</td>\n    </tr>\n    <tr>\n      <th>20</th>\n      <td>Máquinas e Equipamentos</td>\n      <td>17</td>\n    </tr>\n    <tr>\n      <th>31</th>\n      <td>Siderurgia e Metalurgia</td>\n      <td>16</td>\n    </tr>\n    <tr>\n      <th>11</th>\n      <td>Exploração de Imóveis</td>\n      <td>16</td>\n    </tr>\n    <tr>\n      <th>18</th>\n      <td>Material de Transporte</td>\n      <td>14</td>\n    </tr>\n    <tr>\n      <th>1</th>\n      <td>Alimentos</td>\n      <td>13</td>\n    </tr>\n    <tr>\n      <th>34</th>\n      <td>Transporte</td>\n      <td>13</td>\n    </tr>\n    <tr>\n      <th>27</th>\n      <td>Químicos</td>\n      <td>12</td>\n    </tr>\n    <tr>\n      <th>28</th>\n      <td>Saúde</td>\n      <td>12</td>\n    </tr>\n    <tr>\n      <th>24</th>\n      <td>Previdência e Seguros</td>\n      <td>11</td>\n    </tr>\n    <tr>\n      <th>16</th>\n      <td>Madeira e Papel</td>\n      <td>10</td>\n    </tr>\n    <tr>\n      <th>14</th>\n      <td>Holdings Diversificadas</td>\n      <td>10</td>\n    </tr>\n    <tr>\n      <th>7</th>\n      <td>Diversos</td>\n      <td>8</td>\n    </tr>\n    <tr>\n      <th>23</th>\n      <td>Petróleo, Gás e Biocombustíveis</td>\n      <td>8</td>\n    </tr>\n    <tr>\n      <th>33</th>\n      <td>Telecomunicações</td>\n      <td>7</td>\n    </tr>\n    <tr>\n      <th>5</th>\n      <td>Comércio e Distribuição</td>\n      <td>7</td>\n    </tr>\n    <tr>\n      <th>29</th>\n      <td>Serviços</td>\n      <td>7</td>\n    </tr>\n    <tr>\n      <th>35</th>\n      <td>Utilidades Domésticas</td>\n      <td>6</td>\n    </tr>\n    <tr>\n      <th>37</th>\n      <td>Água e Saneamento</td>\n      <td>6</td>\n    </tr>\n    <tr>\n      <th>22</th>\n      <td>Outros</td>\n      <td>5</td>\n    </tr>\n    <tr>\n      <th>36</th>\n      <td>Viagens e Lazer</td>\n      <td>5</td>\n    </tr>\n    <tr>\n      <th>26</th>\n      <td>Programas e Serviços</td>\n      <td>5</td>\n    </tr>\n    <tr>\n      <th>25</th>\n      <td>Prods. de Uso Pessoal e de Limpeza</td>\n      <td>4</td>\n    </tr>\n    <tr>\n      <th>30</th>\n      <td>Serviços Financeiros Diversos</td>\n      <td>3</td>\n    </tr>\n    <tr>\n      <th>0</th>\n      <td>Agropecuária</td>\n      <td>3</td>\n    </tr>\n    <tr>\n      <th>15</th>\n      <td>Hoteis e Restaurantes</td>\n      <td>3</td>\n    </tr>\n    <tr>\n      <th>13</th>\n      <td>Gás</td>\n      <td>3</td>\n    </tr>\n    <tr>\n      <th>21</th>\n      <td>Mídia</td>\n      <td>2</td>\n    </tr>\n    <tr>\n      <th>8</th>\n      <td>Embalagens</td>\n      <td>2</td>\n    </tr>\n    <tr>\n      <th>19</th>\n      <td>Mineração</td>\n      <td>2</td>\n    </tr>\n    <tr>\n      <th>17</th>\n      <td>Materiais Diversos</td>\n      <td>1</td>\n    </tr>\n    <tr>\n      <th>10</th>\n      <td>Equipamentos Elétricos</td>\n      <td>1</td>\n    </tr>\n    <tr>\n      <th>3</th>\n      <td>Computadores e Equipamentos</td>\n      <td>1</td>\n    </tr>\n    <tr>\n      <th>2</th>\n      <td>Bebidas</td>\n      <td>1</td>\n    </tr>\n  </tbody>\n</table>\n</div>"
     },
     "metadata": {},
     "execution_count": 4
    }
   ],
   "source": [
    "lista.groupby('setor')['codigo'].count().reset_index(name='qtd acoes').sort_values(['qtd acoes'], ascending=False) "
   ]
  },
  {
   "cell_type": "code",
   "execution_count": 5,
   "metadata": {},
   "outputs": [
    {
     "output_type": "execute_result",
     "data": {
      "text/plain": [
       "    codigo cotacao     pl                   roe div_yield   lpa\n",
       "434  WHRL4     7.1   7.53                  0.77      0.15  0.94\n",
       "416  UCAS3     4.5  26.74                 0.069     0.139  0.17\n",
       "433  WHRL3    6.96   7.38                  0.77     0.139  0.94\n",
       "228  HETA3    4.01   0.59  0.009000000000000001       0.0  6.75\n",
       "229  HETA4    8.02   1.19  0.009000000000000001       0.0  6.75\n",
       "235  IGBR3     8.5   8.26  0.013999999999999999       0.0  1.03"
      ],
      "text/html": "<div>\n<style scoped>\n    .dataframe tbody tr th:only-of-type {\n        vertical-align: middle;\n    }\n\n    .dataframe tbody tr th {\n        vertical-align: top;\n    }\n\n    .dataframe thead th {\n        text-align: right;\n    }\n</style>\n<table border=\"1\" class=\"dataframe\">\n  <thead>\n    <tr style=\"text-align: right;\">\n      <th></th>\n      <th>codigo</th>\n      <th>cotacao</th>\n      <th>pl</th>\n      <th>roe</th>\n      <th>div_yield</th>\n      <th>lpa</th>\n    </tr>\n  </thead>\n  <tbody>\n    <tr>\n      <th>434</th>\n      <td>WHRL4</td>\n      <td>7.1</td>\n      <td>7.53</td>\n      <td>0.77</td>\n      <td>0.15</td>\n      <td>0.94</td>\n    </tr>\n    <tr>\n      <th>416</th>\n      <td>UCAS3</td>\n      <td>4.5</td>\n      <td>26.74</td>\n      <td>0.069</td>\n      <td>0.139</td>\n      <td>0.17</td>\n    </tr>\n    <tr>\n      <th>433</th>\n      <td>WHRL3</td>\n      <td>6.96</td>\n      <td>7.38</td>\n      <td>0.77</td>\n      <td>0.139</td>\n      <td>0.94</td>\n    </tr>\n    <tr>\n      <th>228</th>\n      <td>HETA3</td>\n      <td>4.01</td>\n      <td>0.59</td>\n      <td>0.009000000000000001</td>\n      <td>0.0</td>\n      <td>6.75</td>\n    </tr>\n    <tr>\n      <th>229</th>\n      <td>HETA4</td>\n      <td>8.02</td>\n      <td>1.19</td>\n      <td>0.009000000000000001</td>\n      <td>0.0</td>\n      <td>6.75</td>\n    </tr>\n    <tr>\n      <th>235</th>\n      <td>IGBR3</td>\n      <td>8.5</td>\n      <td>8.26</td>\n      <td>0.013999999999999999</td>\n      <td>0.0</td>\n      <td>1.03</td>\n    </tr>\n  </tbody>\n</table>\n</div>"
     },
     "metadata": {},
     "execution_count": 5
    }
   ],
   "source": [
    "lista.loc[lista.setor == 'Utilidades Domésticas', ['codigo', 'cotacao', 'pl', 'roe', 'div_yield', 'lpa']].sort_values(['div_yield'], ascending=False)"
   ]
  },
  {
   "cell_type": "code",
   "execution_count": 6,
   "metadata": {},
   "outputs": [
    {
     "output_type": "stream",
     "name": "stdout",
     "text": [
      "<class 'pandas.core.frame.DataFrame'>\nRangeIndex: 439 entries, 0 to 438\nData columns (total 42 columns):\n #   Column              Non-Null Count  Dtype \n---  ------              --------------  ----- \n 0   scraped_date        439 non-null    object\n 1   codigo              439 non-null    object\n 2   cotacao             439 non-null    object\n 3   data_cotacao        439 non-null    object\n 4   setor               439 non-null    object\n 5   subsetor            439 non-null    object\n 6   valor_mercado       439 non-null    object\n 7   valor_firma         439 non-null    object\n 8   numero_acoes        439 non-null    object\n 9   pl                  439 non-null    object\n 10  lpa                 439 non-null    object\n 11  pvp                 439 non-null    object\n 12  vpa                 439 non-null    object\n 13  pebit               439 non-null    object\n 14  marg_bruta          439 non-null    object\n 15  psr                 439 non-null    object\n 16  marg_ebit           439 non-null    object\n 17  pativos             439 non-null    object\n 18  marg_liquida        439 non-null    object\n 19  p_cap_giro          439 non-null    object\n 20  ebit_ativo          439 non-null    object\n 21  p_ativ_circ_liq     439 non-null    object\n 22  roic                439 non-null    object\n 23  div_yield           439 non-null    object\n 24  roe                 439 non-null    object\n 25  ev_ebitida          439 non-null    object\n 26  liquidez_corr       439 non-null    object\n 27  giro_ativos         439 non-null    object\n 28  div_br_patrim       439 non-null    object\n 29  cres_rec_5a         439 non-null    object\n 30  ativo               439 non-null    object\n 31  disponibilidades    439 non-null    object\n 32  ativo_circulante    439 non-null    object\n 33  div_bruta           439 non-null    object\n 34  div_liquida         439 non-null    object\n 35  patrimonio_liquido  439 non-null    object\n 36  receita_Liquida_12  439 non-null    object\n 37  receita_Liquida_3   439 non-null    object\n 38  ebit_12             439 non-null    object\n 39  ebit_3              439 non-null    object\n 40  lucro_liquido_12    439 non-null    object\n 41  lucro_liquido_3     439 non-null    object\ndtypes: object(42)\nmemory usage: 144.2+ KB\n"
     ]
    }
   ],
   "source": [
    "lista.info()"
   ]
  },
  {
   "cell_type": "code",
   "execution_count": 7,
   "metadata": {},
   "outputs": [
    {
     "output_type": "stream",
     "name": "stdout",
     "text": [
      "<class 'pandas.core.frame.DataFrame'>\nRangeIndex: 439 entries, 0 to 438\nData columns (total 42 columns):\n #   Column              Non-Null Count  Dtype         \n---  ------              --------------  -----         \n 0   scraped_date        439 non-null    datetime64[ns]\n 1   codigo              439 non-null    object        \n 2   cotacao             439 non-null    float64       \n 3   data_cotacao        439 non-null    object        \n 4   setor               439 non-null    object        \n 5   subsetor            439 non-null    object        \n 6   valor_mercado       439 non-null    int64         \n 7   valor_firma         439 non-null    object        \n 8   numero_acoes        439 non-null    int64         \n 9   pl                  439 non-null    float64       \n 10  lpa                 439 non-null    float64       \n 11  pvp                 439 non-null    float64       \n 12  vpa                 439 non-null    float64       \n 13  pebit               439 non-null    float64       \n 14  marg_bruta          439 non-null    float64       \n 15  psr                 439 non-null    float64       \n 16  marg_ebit           439 non-null    float64       \n 17  pativos             439 non-null    float64       \n 18  marg_liquida        439 non-null    float64       \n 19  p_cap_giro          439 non-null    float64       \n 20  ebit_ativo          439 non-null    float64       \n 21  p_ativ_circ_liq     439 non-null    float64       \n 22  roic                439 non-null    float64       \n 23  div_yield           439 non-null    float64       \n 24  roe                 439 non-null    float64       \n 25  ev_ebitida          439 non-null    float64       \n 26  liquidez_corr       439 non-null    float64       \n 27  giro_ativos         439 non-null    float64       \n 28  div_br_patrim       439 non-null    float64       \n 29  cres_rec_5a         439 non-null    float64       \n 30  ativo               439 non-null    int64         \n 31  disponibilidades    439 non-null    int64         \n 32  ativo_circulante    439 non-null    int64         \n 33  div_bruta           439 non-null    int64         \n 34  div_liquida         439 non-null    int64         \n 35  patrimonio_liquido  439 non-null    int64         \n 36  receita_Liquida_12  439 non-null    int64         \n 37  receita_Liquida_3   439 non-null    int64         \n 38  ebit_12             439 non-null    int64         \n 39  ebit_3              439 non-null    int64         \n 40  lucro_liquido_12    439 non-null    int64         \n 41  lucro_liquido_3     439 non-null    int64         \ndtypes: datetime64[ns](1), float64(22), int64(14), object(5)\nmemory usage: 144.2+ KB\n"
     ]
    }
   ],
   "source": [
    "typeset = CompleteSet()\n",
    "\n",
    "lista = cast_to_inferred(lista, typeset)\n",
    "lista.info()"
   ]
  },
  {
   "cell_type": "code",
   "execution_count": 3,
   "metadata": {},
   "outputs": [
    {
     "output_type": "execute_result",
     "data": {
      "text/plain": [
       "    codigo cotacao     pl                   roe div_yield   lpa\n",
       "434  WHRL4     7.1   7.53                  0.77      0.15  0.94\n",
       "416  UCAS3     4.5  26.74                 0.069     0.139  0.17\n",
       "433  WHRL3    6.96   7.38                  0.77     0.139  0.94\n",
       "228  HETA3    4.01   0.59  0.009000000000000001       0.0  6.75\n",
       "229  HETA4    8.02   1.19  0.009000000000000001       0.0  6.75\n",
       "235  IGBR3     8.5   8.26  0.013999999999999999       0.0  1.03"
      ],
      "text/html": "<div>\n<style scoped>\n    .dataframe tbody tr th:only-of-type {\n        vertical-align: middle;\n    }\n\n    .dataframe tbody tr th {\n        vertical-align: top;\n    }\n\n    .dataframe thead th {\n        text-align: right;\n    }\n</style>\n<table border=\"1\" class=\"dataframe\">\n  <thead>\n    <tr style=\"text-align: right;\">\n      <th></th>\n      <th>codigo</th>\n      <th>cotacao</th>\n      <th>pl</th>\n      <th>roe</th>\n      <th>div_yield</th>\n      <th>lpa</th>\n    </tr>\n  </thead>\n  <tbody>\n    <tr>\n      <th>434</th>\n      <td>WHRL4</td>\n      <td>7.1</td>\n      <td>7.53</td>\n      <td>0.77</td>\n      <td>0.15</td>\n      <td>0.94</td>\n    </tr>\n    <tr>\n      <th>416</th>\n      <td>UCAS3</td>\n      <td>4.5</td>\n      <td>26.74</td>\n      <td>0.069</td>\n      <td>0.139</td>\n      <td>0.17</td>\n    </tr>\n    <tr>\n      <th>433</th>\n      <td>WHRL3</td>\n      <td>6.96</td>\n      <td>7.38</td>\n      <td>0.77</td>\n      <td>0.139</td>\n      <td>0.94</td>\n    </tr>\n    <tr>\n      <th>228</th>\n      <td>HETA3</td>\n      <td>4.01</td>\n      <td>0.59</td>\n      <td>0.009000000000000001</td>\n      <td>0.0</td>\n      <td>6.75</td>\n    </tr>\n    <tr>\n      <th>229</th>\n      <td>HETA4</td>\n      <td>8.02</td>\n      <td>1.19</td>\n      <td>0.009000000000000001</td>\n      <td>0.0</td>\n      <td>6.75</td>\n    </tr>\n    <tr>\n      <th>235</th>\n      <td>IGBR3</td>\n      <td>8.5</td>\n      <td>8.26</td>\n      <td>0.013999999999999999</td>\n      <td>0.0</td>\n      <td>1.03</td>\n    </tr>\n  </tbody>\n</table>\n</div>"
     },
     "metadata": {},
     "execution_count": 3
    }
   ],
   "source": [
    "lista.loc[lista.setor == 'Utilidades Domésticas', ['codigo', 'cotacao', 'pl', 'roe', 'div_yield', 'lpa']].sort_values(['div_yield'], ascending=False)"
   ]
  }
 ]
}