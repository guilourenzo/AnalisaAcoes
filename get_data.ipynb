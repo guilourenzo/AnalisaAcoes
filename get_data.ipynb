{
 "metadata": {
  "language_info": {
   "codemirror_mode": {
    "name": "ipython",
    "version": 3
   },
   "file_extension": ".py",
   "mimetype": "text/x-python",
   "name": "python",
   "nbconvert_exporter": "python",
   "pygments_lexer": "ipython3",
   "version": "3.8.5-final"
  },
  "orig_nbformat": 2,
  "kernelspec": {
   "name": "python3",
   "display_name": "Python 3.8.5 64-bit (conda)",
   "metadata": {
    "interpreter": {
     "hash": "b9cdb420fd02d04a6f4f13af578f724da7ae6da655c0c609f3394904c1b4bacd"
    }
   }
  }
 },
 "nbformat": 4,
 "nbformat_minor": 2,
 "cells": [
  {
   "cell_type": "code",
   "execution_count": 1,
   "metadata": {},
   "outputs": [],
   "source": [
    "import pandas as pd\n",
    "import fundamentus as fund\n",
    "import yfinance as yf\n",
    "\n",
    "from pypfopt.efficient_frontier import EfficientFrontier\n",
    "from pypfopt import risk_models\n",
    "from pypfopt import expected_returns\n",
    "\n",
    "from pypfopt.expected_returns import mean_historical_return\n",
    "from pypfopt.risk_models import CovarianceShrinkage\n",
    "\n",
    "from pypfopt.discrete_allocation import DiscreteAllocation, get_latest_prices"
   ]
  },
  {
   "cell_type": "code",
   "execution_count": 2,
   "metadata": {},
   "outputs": [],
   "source": [
    "def filterTheDict(dictObj, callback):\n",
    "    newDict = dict()\n",
    "    # Iterate over all the items in dictionary\n",
    "    for (key, value) in dictObj.items():\n",
    "        # Check if item satisfies the given condition then add to new dict\n",
    "        if callback((key, value)):\n",
    "            newDict[key] = value\n",
    "    return newDict"
   ]
  },
  {
   "cell_type": "code",
   "execution_count": 3,
   "metadata": {},
   "outputs": [
    {
     "output_type": "stream",
     "name": "stderr",
     "text": [
      "100%|██████████| 426/426 [03:47<00:00,  1.88it/s]Wall time: 3min 47s\n",
      "\n"
     ]
    }
   ],
   "source": [
    "%%time\n",
    "\n",
    "lista = fund.get_data()"
   ]
  },
  {
   "cell_type": "code",
   "execution_count": 4,
   "metadata": {},
   "outputs": [
    {
     "output_type": "stream",
     "name": "stdout",
     "text": [
      "Wall time: 4 ms\n"
     ]
    },
    {
     "output_type": "execute_result",
     "data": {
      "text/plain": [
       "                                   setor  qtd acoes\n",
       "12                      Energia Elétrica         67\n",
       "18            Intermediários Financeiros         37\n",
       "34         Tecidos, Vestuário e Calçados         28\n",
       "8                       Construção Civil         25\n",
       "6                               Comércio         24\n",
       "14                 Exploração de Imóveis         16\n",
       "33               Siderurgia e Metalurgia         16\n",
       "24               Máquinas e Equipamentos         15\n",
       "27                 Previdência e Seguros         15\n",
       "36                            Transporte         13\n",
       "1                  Alimentos Processados         12\n",
       "30                              Químicos         12\n",
       "21                Material de Transporte         11\n",
       "26       Petróleo, Gás e Biocombustíveis         11\n",
       "9                Construção e Engenharia         11\n",
       "7                Comércio e Distribuição         10\n",
       "19                       Madeira e Papel          9\n",
       "10                              Diversos          9\n",
       "2                Análises e Diagnósticos          8\n",
       "25                                Outros          7\n",
       "31                     Serviços Diversos          7\n",
       "38                       Viagens e Lazer          7\n",
       "35                      Telecomunicações          6\n",
       "39                     Água e Saneamento          6\n",
       "29                  Programas e Serviços          4\n",
       "37                 Utilidades Domésticas          4\n",
       "0                           Agropecuária          4\n",
       "23                             Mineração          4\n",
       "16               Holdings Diversificadas          4\n",
       "28  Produtos de Uso Pessoal e de Limpeza          3\n",
       "17                 Hoteis e Restaurantes          3\n",
       "32         Serviços Financeiros Diversos          3\n",
       "15                                   Gás          3\n",
       "3              Automóveis e Motocicletas          3\n",
       "22        Medicamentos e Outros Produtos          2\n",
       "13                          Equipamentos          2\n",
       "11                            Embalagens          2\n",
       "5            Computadores e Equipamentos          1\n",
       "4                                Bebidas          1\n",
       "20                    Materiais Diversos          1"
      ],
      "text/html": "<div>\n<style scoped>\n    .dataframe tbody tr th:only-of-type {\n        vertical-align: middle;\n    }\n\n    .dataframe tbody tr th {\n        vertical-align: top;\n    }\n\n    .dataframe thead th {\n        text-align: right;\n    }\n</style>\n<table border=\"1\" class=\"dataframe\">\n  <thead>\n    <tr style=\"text-align: right;\">\n      <th></th>\n      <th>setor</th>\n      <th>qtd acoes</th>\n    </tr>\n  </thead>\n  <tbody>\n    <tr>\n      <th>12</th>\n      <td>Energia Elétrica</td>\n      <td>67</td>\n    </tr>\n    <tr>\n      <th>18</th>\n      <td>Intermediários Financeiros</td>\n      <td>37</td>\n    </tr>\n    <tr>\n      <th>34</th>\n      <td>Tecidos, Vestuário e Calçados</td>\n      <td>28</td>\n    </tr>\n    <tr>\n      <th>8</th>\n      <td>Construção Civil</td>\n      <td>25</td>\n    </tr>\n    <tr>\n      <th>6</th>\n      <td>Comércio</td>\n      <td>24</td>\n    </tr>\n    <tr>\n      <th>14</th>\n      <td>Exploração de Imóveis</td>\n      <td>16</td>\n    </tr>\n    <tr>\n      <th>33</th>\n      <td>Siderurgia e Metalurgia</td>\n      <td>16</td>\n    </tr>\n    <tr>\n      <th>24</th>\n      <td>Máquinas e Equipamentos</td>\n      <td>15</td>\n    </tr>\n    <tr>\n      <th>27</th>\n      <td>Previdência e Seguros</td>\n      <td>15</td>\n    </tr>\n    <tr>\n      <th>36</th>\n      <td>Transporte</td>\n      <td>13</td>\n    </tr>\n    <tr>\n      <th>1</th>\n      <td>Alimentos Processados</td>\n      <td>12</td>\n    </tr>\n    <tr>\n      <th>30</th>\n      <td>Químicos</td>\n      <td>12</td>\n    </tr>\n    <tr>\n      <th>21</th>\n      <td>Material de Transporte</td>\n      <td>11</td>\n    </tr>\n    <tr>\n      <th>26</th>\n      <td>Petróleo, Gás e Biocombustíveis</td>\n      <td>11</td>\n    </tr>\n    <tr>\n      <th>9</th>\n      <td>Construção e Engenharia</td>\n      <td>11</td>\n    </tr>\n    <tr>\n      <th>7</th>\n      <td>Comércio e Distribuição</td>\n      <td>10</td>\n    </tr>\n    <tr>\n      <th>19</th>\n      <td>Madeira e Papel</td>\n      <td>9</td>\n    </tr>\n    <tr>\n      <th>10</th>\n      <td>Diversos</td>\n      <td>9</td>\n    </tr>\n    <tr>\n      <th>2</th>\n      <td>Análises e Diagnósticos</td>\n      <td>8</td>\n    </tr>\n    <tr>\n      <th>25</th>\n      <td>Outros</td>\n      <td>7</td>\n    </tr>\n    <tr>\n      <th>31</th>\n      <td>Serviços Diversos</td>\n      <td>7</td>\n    </tr>\n    <tr>\n      <th>38</th>\n      <td>Viagens e Lazer</td>\n      <td>7</td>\n    </tr>\n    <tr>\n      <th>35</th>\n      <td>Telecomunicações</td>\n      <td>6</td>\n    </tr>\n    <tr>\n      <th>39</th>\n      <td>Água e Saneamento</td>\n      <td>6</td>\n    </tr>\n    <tr>\n      <th>29</th>\n      <td>Programas e Serviços</td>\n      <td>4</td>\n    </tr>\n    <tr>\n      <th>37</th>\n      <td>Utilidades Domésticas</td>\n      <td>4</td>\n    </tr>\n    <tr>\n      <th>0</th>\n      <td>Agropecuária</td>\n      <td>4</td>\n    </tr>\n    <tr>\n      <th>23</th>\n      <td>Mineração</td>\n      <td>4</td>\n    </tr>\n    <tr>\n      <th>16</th>\n      <td>Holdings Diversificadas</td>\n      <td>4</td>\n    </tr>\n    <tr>\n      <th>28</th>\n      <td>Produtos de Uso Pessoal e de Limpeza</td>\n      <td>3</td>\n    </tr>\n    <tr>\n      <th>17</th>\n      <td>Hoteis e Restaurantes</td>\n      <td>3</td>\n    </tr>\n    <tr>\n      <th>32</th>\n      <td>Serviços Financeiros Diversos</td>\n      <td>3</td>\n    </tr>\n    <tr>\n      <th>15</th>\n      <td>Gás</td>\n      <td>3</td>\n    </tr>\n    <tr>\n      <th>3</th>\n      <td>Automóveis e Motocicletas</td>\n      <td>3</td>\n    </tr>\n    <tr>\n      <th>22</th>\n      <td>Medicamentos e Outros Produtos</td>\n      <td>2</td>\n    </tr>\n    <tr>\n      <th>13</th>\n      <td>Equipamentos</td>\n      <td>2</td>\n    </tr>\n    <tr>\n      <th>11</th>\n      <td>Embalagens</td>\n      <td>2</td>\n    </tr>\n    <tr>\n      <th>5</th>\n      <td>Computadores e Equipamentos</td>\n      <td>1</td>\n    </tr>\n    <tr>\n      <th>4</th>\n      <td>Bebidas</td>\n      <td>1</td>\n    </tr>\n    <tr>\n      <th>20</th>\n      <td>Materiais Diversos</td>\n      <td>1</td>\n    </tr>\n  </tbody>\n</table>\n</div>"
     },
     "metadata": {},
     "execution_count": 4
    }
   ],
   "source": [
    "%%time \n",
    "\n",
    "lista.groupby('setor')['codigo'].count().reset_index(name='qtd acoes').sort_values(['qtd acoes'], ascending=False) "
   ]
  },
  {
   "cell_type": "code",
   "execution_count": 5,
   "metadata": {},
   "outputs": [
    {
     "output_type": "stream",
     "name": "stdout",
     "text": [
      "Wall time: 27 ms\n"
     ]
    }
   ],
   "source": [
    "%%time \r\n",
    "\r\n",
    "stock_list = lista[['setor', 'codigo', 'cotacao', 'pl', 'roe', 'div_yield', 'lpa']].sort_values(['setor'], ascending=False).reset_index()\r\n",
    "stock_list['y_codigo'] = (stock_list.codigo + '.SA')"
   ]
  },
  {
   "cell_type": "code",
   "execution_count": 6,
   "metadata": {},
   "outputs": [
    {
     "output_type": "stream",
     "name": "stdout",
     "text": [
      "[*********************100%***********************]  426 of 426 completed\n",
      "Wall time: 18.1 s\n"
     ]
    }
   ],
   "source": [
    "%%time \n",
    "\n",
    "stock_data = yf.download(list(stock_list['y_codigo']),  period = \"2y\")\n",
    "stock_closed = stock_data['Close']"
   ]
  },
  {
   "cell_type": "code",
   "execution_count": 7,
   "metadata": {},
   "outputs": [
    {
     "output_type": "stream",
     "name": "stdout",
     "text": [
      "Wall time: 1.1 s\n"
     ]
    }
   ],
   "source": [
    "%%time \n",
    "\n",
    "mu = mean_historical_return(stock_closed)\n",
    "S = CovarianceShrinkage(stock_closed).ledoit_wolf()"
   ]
  },
  {
   "cell_type": "code",
   "execution_count": 8,
   "metadata": {},
   "outputs": [
    {
     "output_type": "stream",
     "name": "stdout",
     "text": [
      "Expected annual return: 158.6%\nAnnual volatility: 62.1%\nSharpe Ratio: 2.52\nWall time: 2.32 s\n"
     ]
    },
    {
     "output_type": "execute_result",
     "data": {
      "text/plain": [
       "(1.5861335552137, 0.6207610945622705, 2.522924791731767)"
      ]
     },
     "metadata": {},
     "execution_count": 8
    }
   ],
   "source": [
    "%%time \n",
    "\n",
    "# Optimize for maximal Sharpe ratio\n",
    "ef = EfficientFrontier(mu, S)\n",
    "weights = ef.max_sharpe()\n",
    "cleaned_weights = ef.clean_weights()\n",
    "ef.portfolio_performance(verbose=True)"
   ]
  },
  {
   "cell_type": "code",
   "execution_count": 9,
   "metadata": {},
   "outputs": [],
   "source": [
    "# %%time \n",
    "\n",
    "# latest_prices = get_latest_prices(stock_closed)\n",
    "# da = DiscreteAllocation(weights, latest_prices, total_portfolio_value=1200)\n",
    "# allocation, leftover = da.lp_portfolio()\n",
    "# print(allocation)\n",
    "# print(leftover)"
   ]
  },
  {
   "cell_type": "code",
   "execution_count": 10,
   "metadata": {},
   "outputs": [
    {
     "output_type": "stream",
     "name": "stdout",
     "text": [
      "Wall time: 0 ns\n"
     ]
    },
    {
     "output_type": "execute_result",
     "data": {
      "text/plain": [
       "{'AFLT3.SA': 0.00295,\n",
       " 'AGRO3.SA': 0.00134,\n",
       " 'ALPA3.SA': 0.00293,\n",
       " 'ALPA4.SA': 0.0039,\n",
       " 'ANIM3.SA': 0.00107,\n",
       " 'APER3.SA': 0.00218,\n",
       " 'ARZZ3.SA': 0.00095,\n",
       " 'ATOM3.SA': 0.00182,\n",
       " 'B3SA3.SA': 0.00244,\n",
       " 'BALM3.SA': 0.00209,\n",
       " 'BALM4.SA': 0.00059,\n",
       " 'BAUH4.SA': 0.0079,\n",
       " 'BAZA3.SA': 0.00134,\n",
       " 'BEEF3.SA': 0.00157,\n",
       " 'BEES4.SA': 0.00025,\n",
       " 'BGIP3.SA': 0.00031,\n",
       " 'BIDI3.SA': 0.00384,\n",
       " 'BIDI4.SA': 0.01586,\n",
       " 'BIOM3.SA': 0.00422,\n",
       " 'BMEB3.SA': 0.00469,\n",
       " 'BMEB4.SA': 0.004,\n",
       " 'BMIN3.SA': 0.00019,\n",
       " 'BNBR3.SA': 0.00208,\n",
       " 'BPAC3.SA': 0.00396,\n",
       " 'BPAC5.SA': 0.00712,\n",
       " 'BPAN4.SA': 0.00921,\n",
       " 'BRAP3.SA': 0.00369,\n",
       " 'BRAP4.SA': 0.00366,\n",
       " 'BRGE11.SA': 0.00291,\n",
       " 'BRGE12.SA': 0.00301,\n",
       " 'BRGE3.SA': 0.00311,\n",
       " 'BRGE5.SA': 0.00832,\n",
       " 'BRGE6.SA': 0.00262,\n",
       " 'BRGE8.SA': 0.00264,\n",
       " 'BRIV3.SA': 0.00173,\n",
       " 'BRIV4.SA': 0.00066,\n",
       " 'BSEV3.SA': 0.00543,\n",
       " 'BSLI3.SA': 0.02731,\n",
       " 'BSLI4.SA': 0.01753,\n",
       " 'BTOW3.SA': 0.00157,\n",
       " 'BTTL3.SA': 0.00383,\n",
       " 'CAML3.SA': 0.00193,\n",
       " 'CARD3.SA': 0.00322,\n",
       " 'CASN3.SA': 0.00287,\n",
       " 'CEBR3.SA': 0.01015,\n",
       " 'CEBR5.SA': 0.01124,\n",
       " 'CEBR6.SA': 0.01207,\n",
       " 'CEDO3.SA': 0.00249,\n",
       " 'CEEB3.SA': 0.00131,\n",
       " 'CEEB5.SA': 0.00338,\n",
       " 'CEED3.SA': 0.00031,\n",
       " 'CEED4.SA': 0.00171,\n",
       " 'CEGR3.SA': 0.00102,\n",
       " 'CEPE3.SA': 0.01108,\n",
       " 'CEPE5.SA': 0.0024,\n",
       " 'CEPE6.SA': 0.0018,\n",
       " 'CESP3.SA': 0.00136,\n",
       " 'CESP5.SA': 0.0019,\n",
       " 'CGAS3.SA': 0.00305,\n",
       " 'CGAS5.SA': 0.00231,\n",
       " 'CGRA3.SA': 0.00066,\n",
       " 'CGRA4.SA': 0.00061,\n",
       " 'CNTO3.SA': 0.00241,\n",
       " 'COCE3.SA': 0.00037,\n",
       " 'CPLE3.SA': 0.00271,\n",
       " 'CPLE5.SA': 0.00417,\n",
       " 'CPLE6.SA': 0.00233,\n",
       " 'CRPG3.SA': 0.00155,\n",
       " 'CRPG5.SA': 0.00179,\n",
       " 'CRPG6.SA': 0.00152,\n",
       " 'CSAB4.SA': 0.00043,\n",
       " 'CSAN3.SA': 0.00298,\n",
       " 'CSNA3.SA': 0.00407,\n",
       " 'CTKA3.SA': 0.01015,\n",
       " 'CTKA4.SA': 0.00933,\n",
       " 'CYRE3.SA': 0.00074,\n",
       " 'DASA3.SA': 0.01163,\n",
       " 'DIRR3.SA': 0.00105,\n",
       " 'DOHL3.SA': 0.00927,\n",
       " 'DTCY3.SA': 0.00734,\n",
       " 'DTEX3.SA': 0.00184,\n",
       " 'EALT3.SA': 0.00607,\n",
       " 'EEEL3.SA': 0.00567,\n",
       " 'EEEL4.SA': 0.00479,\n",
       " 'EKTR3.SA': 0.00379,\n",
       " 'EKTR4.SA': 0.00057,\n",
       " 'ELET5.SA': 0.00198,\n",
       " 'EMAE4.SA': 0.00388,\n",
       " 'ENEV3.SA': 0.00744,\n",
       " 'ENMT3.SA': 0.00181,\n",
       " 'ENMT4.SA': 0.00224,\n",
       " 'EQPA3.SA': 0.0009,\n",
       " 'EQPA6.SA': 0.00183,\n",
       " 'EQPA7.SA': 0.0004,\n",
       " 'EQTL3.SA': 0.00055,\n",
       " 'ESTR4.SA': 0.00379,\n",
       " 'ETER3.SA': 0.01108,\n",
       " 'EUCA3.SA': 0.00449,\n",
       " 'EUCA4.SA': 0.00212,\n",
       " 'EVEN3.SA': 0.00168,\n",
       " 'EZTC3.SA': 0.00103,\n",
       " 'FHER3.SA': 0.00619,\n",
       " 'FLRY3.SA': 0.00071,\n",
       " 'FRAS3.SA': 0.00446,\n",
       " 'FRIO3.SA': 0.00072,\n",
       " 'GEPA3.SA': 0.00021,\n",
       " 'GGBR3.SA': 0.00242,\n",
       " 'GGBR4.SA': 0.00237,\n",
       " 'GNDI3.SA': 0.00459,\n",
       " 'GOAU3.SA': 0.00087,\n",
       " 'GOAU4.SA': 0.00195,\n",
       " 'GPAR3.SA': 0.00985,\n",
       " 'GPCP3.SA': 0.01676,\n",
       " 'HAGA3.SA': 0.0005,\n",
       " 'HAGA4.SA': 0.00028,\n",
       " 'HAPV3.SA': 0.00447,\n",
       " 'HBTS5.SA': 0.00273,\n",
       " 'HETA4.SA': 0.00048,\n",
       " 'HOOT4.SA': 0.00088,\n",
       " 'HYPE3.SA': 0.00018,\n",
       " 'IGBR3.SA': 0.00853,\n",
       " 'INEP3.SA': 0.00357,\n",
       " 'INEP4.SA': 0.00306,\n",
       " 'JBSS3.SA': 0.00335,\n",
       " 'JHSF3.SA': 0.00565,\n",
       " 'JOPA3.SA': 0.00089,\n",
       " 'JOPA4.SA': 0.00168,\n",
       " 'KEPL3.SA': 0.00538,\n",
       " 'KLBN3.SA': 0.00017,\n",
       " 'KLBN4.SA': 0.00311,\n",
       " 'LAME3.SA': 0.00143,\n",
       " 'LAME4.SA': 0.00031,\n",
       " 'LCAM3.SA': 0.00257,\n",
       " 'LINX3.SA': 0.00059,\n",
       " 'LIPR3.SA': 0.00035,\n",
       " 'LJQQ3.SA': 0.00517,\n",
       " 'LOGG3.SA': 0.00242,\n",
       " 'LOGN3.SA': 0.00212,\n",
       " 'LUPA3.SA': 0.00019,\n",
       " 'LUXM4.SA': 0.00742,\n",
       " 'LWSA3.SA': 0.03078,\n",
       " 'MAPT3.SA': 0.01452,\n",
       " 'MAPT4.SA': 0.02407,\n",
       " 'MGEL4.SA': 0.00043,\n",
       " 'MGLU3.SA': 0.00928,\n",
       " 'MMXM3.SA': 0.01477,\n",
       " 'MNPR3.SA': 0.00618,\n",
       " 'MOAR3.SA': 0.00115,\n",
       " 'MOVI3.SA': 0.00114,\n",
       " 'MRFG3.SA': 0.0048,\n",
       " 'MRVE3.SA': 0.00011,\n",
       " 'MTSA4.SA': 0.00202,\n",
       " 'MWET3.SA': 0.01356,\n",
       " 'MWET4.SA': 0.00121,\n",
       " 'NORD3.SA': 0.02083,\n",
       " 'NTCO3.SA': 0.00135,\n",
       " 'NUTR3.SA': 0.01386,\n",
       " 'OIBR4.SA': 0.0004,\n",
       " 'OMGE3.SA': 0.00323,\n",
       " 'OSXB3.SA': 0.00787,\n",
       " 'PATI3.SA': 0.00209,\n",
       " 'PATI4.SA': 0.00122,\n",
       " 'PEAB3.SA': 0.00199,\n",
       " 'PEAB4.SA': 0.00132,\n",
       " 'PETZ3.SA': 0.00944,\n",
       " 'PNVL3.SA': 0.00146,\n",
       " 'PNVL4.SA': 0.00383,\n",
       " 'POSI3.SA': 0.00236,\n",
       " 'PRIO3.SA': 0.00994,\n",
       " 'PTBL3.SA': 0.00204,\n",
       " 'PTNT3.SA': 0.0005,\n",
       " 'PTNT4.SA': 0.00114,\n",
       " 'QUAL3.SA': 0.00365,\n",
       " 'RADL3.SA': 0.00278,\n",
       " 'RANI3.SA': 0.00365,\n",
       " 'RAPT3.SA': 0.00065,\n",
       " 'RAPT4.SA': 0.00068,\n",
       " 'RDNI3.SA': 0.00184,\n",
       " 'REDE3.SA': 0.00093,\n",
       " 'RENT3.SA': 0.00251,\n",
       " 'RLOG3.SA': 0.00091,\n",
       " 'ROMI3.SA': 0.00636,\n",
       " 'RPAD3.SA': 0.00084,\n",
       " 'RPAD5.SA': 0.00129,\n",
       " 'RPAD6.SA': 0.00104,\n",
       " 'RSID3.SA': 0.00348,\n",
       " 'RSUL4.SA': 0.00626,\n",
       " 'SEQL3.SA': 0.06828,\n",
       " 'SHUL4.SA': 0.00253,\n",
       " 'SIMH3.SA': 0.0052,\n",
       " 'SLCE3.SA': 0.00378,\n",
       " 'SMTO3.SA': 0.00201,\n",
       " 'SNSY5.SA': 0.00609,\n",
       " 'SOMA3.SA': 0.00309,\n",
       " 'SOND5.SA': 0.00539,\n",
       " 'SOND6.SA': 0.00637,\n",
       " 'SQIA3.SA': 0.00556,\n",
       " 'STBP3.SA': 0.00152,\n",
       " 'SULA4.SA': 0.00041,\n",
       " 'SUZB3.SA': 0.00162,\n",
       " 'TAEE3.SA': 0.00013,\n",
       " 'TAEE4.SA': 0.00106,\n",
       " 'TASA3.SA': 0.00997,\n",
       " 'TASA4.SA': 0.0101,\n",
       " 'TEKA3.SA': 0.00838,\n",
       " 'TEKA4.SA': 0.00372,\n",
       " 'TELB3.SA': 0.00306,\n",
       " 'TEND3.SA': 0.00142,\n",
       " 'TESA3.SA': 0.00437,\n",
       " 'TIET3.SA': 0.00099,\n",
       " 'TIET4.SA': 0.00116,\n",
       " 'TKNO4.SA': 0.00082,\n",
       " 'TOTS3.SA': 0.00459,\n",
       " 'TRIS3.SA': 0.00252,\n",
       " 'TRPL3.SA': 0.00174,\n",
       " 'TRPL4.SA': 0.0006,\n",
       " 'TUPY3.SA': 0.00035,\n",
       " 'TXRX3.SA': 0.02055,\n",
       " 'TXRX4.SA': 0.00601,\n",
       " 'UCAS3.SA': 0.00136,\n",
       " 'UNIP3.SA': 0.00173,\n",
       " 'UNIP5.SA': 0.00171,\n",
       " 'UNIP6.SA': 0.00129,\n",
       " 'USIM3.SA': 0.00152,\n",
       " 'USIM5.SA': 0.00223,\n",
       " 'USIM6.SA': 0.00058,\n",
       " 'VALE3.SA': 0.00326,\n",
       " 'VVAR3.SA': 0.00476,\n",
       " 'WEGE3.SA': 0.00868,\n",
       " 'WHRL3.SA': 0.00196,\n",
       " 'WHRL4.SA': 0.00255,\n",
       " 'WLMM3.SA': 0.00565,\n",
       " 'WLMM4.SA': 0.00939}"
      ]
     },
     "metadata": {},
     "execution_count": 10
    }
   ],
   "source": [
    "%%time \n",
    "\n",
    "chosen_stocks = filterTheDict(cleaned_weights, lambda elem: elem[1] > 0)\n",
    "chosen_stocks"
   ]
  },
  {
   "cell_type": "code",
   "execution_count": 13,
   "metadata": {},
   "outputs": [
    {
     "output_type": "execute_result",
     "data": {
      "text/plain": [
       "233"
      ]
     },
     "metadata": {},
     "execution_count": 13
    }
   ],
   "source": [
    "len(chosen_stocks.keys())"
   ]
  },
  {
   "cell_type": "code",
   "execution_count": 18,
   "metadata": {},
   "outputs": [],
   "source": [
    "stocks_chosen = pd.DataFrame.from_dict(cleaned_weights, orient='index', columns=['distribuicao'])"
   ]
  },
  {
   "cell_type": "code",
   "execution_count": 25,
   "metadata": {},
   "outputs": [
    {
     "output_type": "execute_result",
     "data": {
      "text/plain": [
       "          distribuicao\n",
       "AGRO3.SA       0.00134"
      ],
      "text/html": "<div>\n<style scoped>\n    .dataframe tbody tr th:only-of-type {\n        vertical-align: middle;\n    }\n\n    .dataframe tbody tr th {\n        vertical-align: top;\n    }\n\n    .dataframe thead th {\n        text-align: right;\n    }\n</style>\n<table border=\"1\" class=\"dataframe\">\n  <thead>\n    <tr style=\"text-align: right;\">\n      <th></th>\n      <th>distribuicao</th>\n    </tr>\n  </thead>\n  <tbody>\n    <tr>\n      <th>AGRO3.SA</th>\n      <td>0.00134</td>\n    </tr>\n  </tbody>\n</table>\n</div>"
     },
     "metadata": {},
     "execution_count": 25
    }
   ],
   "source": [
    "stocks_chosen.filter(like='AGRO3.SA', axis=0)"
   ]
  },
  {
   "cell_type": "code",
   "execution_count": 20,
   "metadata": {},
   "outputs": [],
   "source": [
    "acoes = pd.merge(left=stock_list, right=stocks_chosen, how='inner', left_on='y_codigo', right_index=True)"
   ]
  },
  {
   "cell_type": "code",
   "execution_count": 21,
   "metadata": {},
   "outputs": [
    {
     "output_type": "execute_result",
     "data": {
      "text/plain": [
       "     index                  setor codigo cotacao     pl                  roe  \\\n",
       "0       15      Água e Saneamento  AMBP3   23.15    0.0                  0.0   \n",
       "1      138      Água e Saneamento  CSMG3   14.65   6.82                0.126   \n",
       "2      353      Água e Saneamento  SAPR3    4.13   6.26  0.14400000000000002   \n",
       "3      354      Água e Saneamento  SAPR4    4.13   6.26  0.14400000000000002   \n",
       "4      355      Água e Saneamento  SBSP3   38.29  21.83                0.055   \n",
       "..     ...                    ...    ...     ...    ...                  ...   \n",
       "421    367  Alimentos Processados  SMTO3   31.16  12.79                0.214   \n",
       "422    363           Agropecuária  SLCE3   42.86  20.94  0.14400000000000002   \n",
       "423      4           Agropecuária  AGRO3   22.85   9.61                 0.17   \n",
       "424    201           Agropecuária  FRTA3     5.0   3.43                0.045   \n",
       "425    390           Agropecuária  TESA3    31.5   7.92  0.11800000000000001   \n",
       "\n",
       "                div_yield   lpa  y_codigo  distribuicao  \n",
       "0                     0.0   0.0  AMBP3.SA       0.00000  \n",
       "1                   0.204  2.15  CSMG3.SA       0.00000  \n",
       "2                   0.045  0.66  SAPR3.SA       0.00000  \n",
       "3                   0.049  0.66  SAPR4.SA       0.00000  \n",
       "4    0.036000000000000004  1.75  SBSP3.SA       0.00000  \n",
       "..                    ...   ...       ...           ...  \n",
       "421                 0.017  2.44  SMTO3.SA       0.00201  \n",
       "422                 0.023  2.05  SLCE3.SA       0.00378  \n",
       "423                 0.023  2.38  AGRO3.SA       0.00134  \n",
       "424                   0.0  1.46  FRTA3.SA       0.00000  \n",
       "425                   0.0  3.98  TESA3.SA       0.00437  \n",
       "\n",
       "[426 rows x 10 columns]"
      ],
      "text/html": "<div>\n<style scoped>\n    .dataframe tbody tr th:only-of-type {\n        vertical-align: middle;\n    }\n\n    .dataframe tbody tr th {\n        vertical-align: top;\n    }\n\n    .dataframe thead th {\n        text-align: right;\n    }\n</style>\n<table border=\"1\" class=\"dataframe\">\n  <thead>\n    <tr style=\"text-align: right;\">\n      <th></th>\n      <th>index</th>\n      <th>setor</th>\n      <th>codigo</th>\n      <th>cotacao</th>\n      <th>pl</th>\n      <th>roe</th>\n      <th>div_yield</th>\n      <th>lpa</th>\n      <th>y_codigo</th>\n      <th>distribuicao</th>\n    </tr>\n  </thead>\n  <tbody>\n    <tr>\n      <th>0</th>\n      <td>15</td>\n      <td>Água e Saneamento</td>\n      <td>AMBP3</td>\n      <td>23.15</td>\n      <td>0.0</td>\n      <td>0.0</td>\n      <td>0.0</td>\n      <td>0.0</td>\n      <td>AMBP3.SA</td>\n      <td>0.00000</td>\n    </tr>\n    <tr>\n      <th>1</th>\n      <td>138</td>\n      <td>Água e Saneamento</td>\n      <td>CSMG3</td>\n      <td>14.65</td>\n      <td>6.82</td>\n      <td>0.126</td>\n      <td>0.204</td>\n      <td>2.15</td>\n      <td>CSMG3.SA</td>\n      <td>0.00000</td>\n    </tr>\n    <tr>\n      <th>2</th>\n      <td>353</td>\n      <td>Água e Saneamento</td>\n      <td>SAPR3</td>\n      <td>4.13</td>\n      <td>6.26</td>\n      <td>0.14400000000000002</td>\n      <td>0.045</td>\n      <td>0.66</td>\n      <td>SAPR3.SA</td>\n      <td>0.00000</td>\n    </tr>\n    <tr>\n      <th>3</th>\n      <td>354</td>\n      <td>Água e Saneamento</td>\n      <td>SAPR4</td>\n      <td>4.13</td>\n      <td>6.26</td>\n      <td>0.14400000000000002</td>\n      <td>0.049</td>\n      <td>0.66</td>\n      <td>SAPR4.SA</td>\n      <td>0.00000</td>\n    </tr>\n    <tr>\n      <th>4</th>\n      <td>355</td>\n      <td>Água e Saneamento</td>\n      <td>SBSP3</td>\n      <td>38.29</td>\n      <td>21.83</td>\n      <td>0.055</td>\n      <td>0.036000000000000004</td>\n      <td>1.75</td>\n      <td>SBSP3.SA</td>\n      <td>0.00000</td>\n    </tr>\n    <tr>\n      <th>...</th>\n      <td>...</td>\n      <td>...</td>\n      <td>...</td>\n      <td>...</td>\n      <td>...</td>\n      <td>...</td>\n      <td>...</td>\n      <td>...</td>\n      <td>...</td>\n      <td>...</td>\n    </tr>\n    <tr>\n      <th>421</th>\n      <td>367</td>\n      <td>Alimentos Processados</td>\n      <td>SMTO3</td>\n      <td>31.16</td>\n      <td>12.79</td>\n      <td>0.214</td>\n      <td>0.017</td>\n      <td>2.44</td>\n      <td>SMTO3.SA</td>\n      <td>0.00201</td>\n    </tr>\n    <tr>\n      <th>422</th>\n      <td>363</td>\n      <td>Agropecuária</td>\n      <td>SLCE3</td>\n      <td>42.86</td>\n      <td>20.94</td>\n      <td>0.14400000000000002</td>\n      <td>0.023</td>\n      <td>2.05</td>\n      <td>SLCE3.SA</td>\n      <td>0.00378</td>\n    </tr>\n    <tr>\n      <th>423</th>\n      <td>4</td>\n      <td>Agropecuária</td>\n      <td>AGRO3</td>\n      <td>22.85</td>\n      <td>9.61</td>\n      <td>0.17</td>\n      <td>0.023</td>\n      <td>2.38</td>\n      <td>AGRO3.SA</td>\n      <td>0.00134</td>\n    </tr>\n    <tr>\n      <th>424</th>\n      <td>201</td>\n      <td>Agropecuária</td>\n      <td>FRTA3</td>\n      <td>5.0</td>\n      <td>3.43</td>\n      <td>0.045</td>\n      <td>0.0</td>\n      <td>1.46</td>\n      <td>FRTA3.SA</td>\n      <td>0.00000</td>\n    </tr>\n    <tr>\n      <th>425</th>\n      <td>390</td>\n      <td>Agropecuária</td>\n      <td>TESA3</td>\n      <td>31.5</td>\n      <td>7.92</td>\n      <td>0.11800000000000001</td>\n      <td>0.0</td>\n      <td>3.98</td>\n      <td>TESA3.SA</td>\n      <td>0.00437</td>\n    </tr>\n  </tbody>\n</table>\n<p>426 rows × 10 columns</p>\n</div>"
     },
     "metadata": {},
     "execution_count": 21
    }
   ],
   "source": [
    "acoes"
   ]
  },
  {
   "cell_type": "code",
   "execution_count": 11,
   "metadata": {},
   "outputs": [],
   "source": [
    "# import numpy as np\n",
    "# prices = np.isnan(latest_prices)"
   ]
  },
  {
   "cell_type": "code",
   "execution_count": 12,
   "metadata": {},
   "outputs": [],
   "source": [
    "# prices[prices == True]"
   ]
  }
 ]
}