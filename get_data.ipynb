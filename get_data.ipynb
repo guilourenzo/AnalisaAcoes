{
 "metadata": {
  "language_info": {
   "codemirror_mode": {
    "name": "ipython",
    "version": 3
   },
   "file_extension": ".py",
   "mimetype": "text/x-python",
   "name": "python",
   "nbconvert_exporter": "python",
   "pygments_lexer": "ipython3",
   "version": "3.8.5-final"
  },
  "orig_nbformat": 2,
  "kernelspec": {
   "name": "python3",
   "display_name": "Python 3.8.5 64-bit (conda)",
   "metadata": {
    "interpreter": {
     "hash": "b9cdb420fd02d04a6f4f13af578f724da7ae6da655c0c609f3394904c1b4bacd"
    }
   }
  }
 },
 "nbformat": 4,
 "nbformat_minor": 2,
 "cells": [
  {
   "cell_type": "code",
   "execution_count": 1,
   "metadata": {},
   "outputs": [],
   "source": [
    "import pandas as pd\n",
    "import fundamentus as fund\n",
    "import yfinance as yf\n",
    "\n",
    "from pypfopt.efficient_frontier import EfficientFrontier\n",
    "from pypfopt import risk_models\n",
    "from pypfopt import expected_returns\n",
    "\n",
    "from pypfopt.expected_returns import mean_historical_return\n",
    "from pypfopt.risk_models import CovarianceShrinkage\n",
    "\n",
    "from pypfopt.discrete_allocation import DiscreteAllocation, get_latest_prices"
   ]
  },
  {
   "cell_type": "code",
   "execution_count": 2,
   "metadata": {},
   "outputs": [],
   "source": [
    "def filterTheDict(dictObj, callback):\n",
    "    newDict = dict()\n",
    "    # Iterate over all the items in dictionary\n",
    "    for (key, value) in dictObj.items():\n",
    "        # Check if item satisfies the given condition then add to new dict\n",
    "        if callback((key, value)):\n",
    "            newDict[key] = value\n",
    "    return newDict"
   ]
  },
  {
   "cell_type": "code",
   "execution_count": 3,
   "metadata": {},
   "outputs": [
    {
     "output_type": "stream",
     "name": "stderr",
     "text": [
      "100%|██████████| 426/426 [03:45<00:00,  1.89it/s]Wall time: 3min 45s\n",
      "\n"
     ]
    }
   ],
   "source": [
    "%%time\n",
    "\n",
    "lista = fund.get_data()"
   ]
  },
  {
   "cell_type": "code",
   "execution_count": 4,
   "metadata": {},
   "outputs": [
    {
     "output_type": "stream",
     "name": "stdout",
     "text": [
      "Wall time: 3 ms\n"
     ]
    },
    {
     "output_type": "execute_result",
     "data": {
      "text/plain": [
       "                                   setor  qtd acoes\n",
       "12                      Energia Elétrica         67\n",
       "18            Intermediários Financeiros         37\n",
       "34         Tecidos, Vestuário e Calçados         28\n",
       "8                       Construção Civil         25\n",
       "6                               Comércio         24\n",
       "14                 Exploração de Imóveis         16\n",
       "33               Siderurgia e Metalurgia         16\n",
       "24               Máquinas e Equipamentos         15\n",
       "27                 Previdência e Seguros         15\n",
       "36                            Transporte         13\n",
       "1                  Alimentos Processados         12\n",
       "30                              Químicos         12\n",
       "21                Material de Transporte         11\n",
       "26       Petróleo, Gás e Biocombustíveis         11\n",
       "9                Construção e Engenharia         11\n",
       "7                Comércio e Distribuição         10\n",
       "19                       Madeira e Papel          9\n",
       "10                              Diversos          9\n",
       "2                Análises e Diagnósticos          8\n",
       "25                                Outros          7\n",
       "31                     Serviços Diversos          7\n",
       "38                       Viagens e Lazer          7\n",
       "35                      Telecomunicações          6\n",
       "39                     Água e Saneamento          6\n",
       "29                  Programas e Serviços          4\n",
       "37                 Utilidades Domésticas          4\n",
       "0                           Agropecuária          4\n",
       "23                             Mineração          4\n",
       "16               Holdings Diversificadas          4\n",
       "28  Produtos de Uso Pessoal e de Limpeza          3\n",
       "17                 Hoteis e Restaurantes          3\n",
       "32         Serviços Financeiros Diversos          3\n",
       "15                                   Gás          3\n",
       "3              Automóveis e Motocicletas          3\n",
       "22        Medicamentos e Outros Produtos          2\n",
       "13                          Equipamentos          2\n",
       "11                            Embalagens          2\n",
       "5            Computadores e Equipamentos          1\n",
       "4                                Bebidas          1\n",
       "20                    Materiais Diversos          1"
      ],
      "text/html": "<div>\n<style scoped>\n    .dataframe tbody tr th:only-of-type {\n        vertical-align: middle;\n    }\n\n    .dataframe tbody tr th {\n        vertical-align: top;\n    }\n\n    .dataframe thead th {\n        text-align: right;\n    }\n</style>\n<table border=\"1\" class=\"dataframe\">\n  <thead>\n    <tr style=\"text-align: right;\">\n      <th></th>\n      <th>setor</th>\n      <th>qtd acoes</th>\n    </tr>\n  </thead>\n  <tbody>\n    <tr>\n      <th>12</th>\n      <td>Energia Elétrica</td>\n      <td>67</td>\n    </tr>\n    <tr>\n      <th>18</th>\n      <td>Intermediários Financeiros</td>\n      <td>37</td>\n    </tr>\n    <tr>\n      <th>34</th>\n      <td>Tecidos, Vestuário e Calçados</td>\n      <td>28</td>\n    </tr>\n    <tr>\n      <th>8</th>\n      <td>Construção Civil</td>\n      <td>25</td>\n    </tr>\n    <tr>\n      <th>6</th>\n      <td>Comércio</td>\n      <td>24</td>\n    </tr>\n    <tr>\n      <th>14</th>\n      <td>Exploração de Imóveis</td>\n      <td>16</td>\n    </tr>\n    <tr>\n      <th>33</th>\n      <td>Siderurgia e Metalurgia</td>\n      <td>16</td>\n    </tr>\n    <tr>\n      <th>24</th>\n      <td>Máquinas e Equipamentos</td>\n      <td>15</td>\n    </tr>\n    <tr>\n      <th>27</th>\n      <td>Previdência e Seguros</td>\n      <td>15</td>\n    </tr>\n    <tr>\n      <th>36</th>\n      <td>Transporte</td>\n      <td>13</td>\n    </tr>\n    <tr>\n      <th>1</th>\n      <td>Alimentos Processados</td>\n      <td>12</td>\n    </tr>\n    <tr>\n      <th>30</th>\n      <td>Químicos</td>\n      <td>12</td>\n    </tr>\n    <tr>\n      <th>21</th>\n      <td>Material de Transporte</td>\n      <td>11</td>\n    </tr>\n    <tr>\n      <th>26</th>\n      <td>Petróleo, Gás e Biocombustíveis</td>\n      <td>11</td>\n    </tr>\n    <tr>\n      <th>9</th>\n      <td>Construção e Engenharia</td>\n      <td>11</td>\n    </tr>\n    <tr>\n      <th>7</th>\n      <td>Comércio e Distribuição</td>\n      <td>10</td>\n    </tr>\n    <tr>\n      <th>19</th>\n      <td>Madeira e Papel</td>\n      <td>9</td>\n    </tr>\n    <tr>\n      <th>10</th>\n      <td>Diversos</td>\n      <td>9</td>\n    </tr>\n    <tr>\n      <th>2</th>\n      <td>Análises e Diagnósticos</td>\n      <td>8</td>\n    </tr>\n    <tr>\n      <th>25</th>\n      <td>Outros</td>\n      <td>7</td>\n    </tr>\n    <tr>\n      <th>31</th>\n      <td>Serviços Diversos</td>\n      <td>7</td>\n    </tr>\n    <tr>\n      <th>38</th>\n      <td>Viagens e Lazer</td>\n      <td>7</td>\n    </tr>\n    <tr>\n      <th>35</th>\n      <td>Telecomunicações</td>\n      <td>6</td>\n    </tr>\n    <tr>\n      <th>39</th>\n      <td>Água e Saneamento</td>\n      <td>6</td>\n    </tr>\n    <tr>\n      <th>29</th>\n      <td>Programas e Serviços</td>\n      <td>4</td>\n    </tr>\n    <tr>\n      <th>37</th>\n      <td>Utilidades Domésticas</td>\n      <td>4</td>\n    </tr>\n    <tr>\n      <th>0</th>\n      <td>Agropecuária</td>\n      <td>4</td>\n    </tr>\n    <tr>\n      <th>23</th>\n      <td>Mineração</td>\n      <td>4</td>\n    </tr>\n    <tr>\n      <th>16</th>\n      <td>Holdings Diversificadas</td>\n      <td>4</td>\n    </tr>\n    <tr>\n      <th>28</th>\n      <td>Produtos de Uso Pessoal e de Limpeza</td>\n      <td>3</td>\n    </tr>\n    <tr>\n      <th>17</th>\n      <td>Hoteis e Restaurantes</td>\n      <td>3</td>\n    </tr>\n    <tr>\n      <th>32</th>\n      <td>Serviços Financeiros Diversos</td>\n      <td>3</td>\n    </tr>\n    <tr>\n      <th>15</th>\n      <td>Gás</td>\n      <td>3</td>\n    </tr>\n    <tr>\n      <th>3</th>\n      <td>Automóveis e Motocicletas</td>\n      <td>3</td>\n    </tr>\n    <tr>\n      <th>22</th>\n      <td>Medicamentos e Outros Produtos</td>\n      <td>2</td>\n    </tr>\n    <tr>\n      <th>13</th>\n      <td>Equipamentos</td>\n      <td>2</td>\n    </tr>\n    <tr>\n      <th>11</th>\n      <td>Embalagens</td>\n      <td>2</td>\n    </tr>\n    <tr>\n      <th>5</th>\n      <td>Computadores e Equipamentos</td>\n      <td>1</td>\n    </tr>\n    <tr>\n      <th>4</th>\n      <td>Bebidas</td>\n      <td>1</td>\n    </tr>\n    <tr>\n      <th>20</th>\n      <td>Materiais Diversos</td>\n      <td>1</td>\n    </tr>\n  </tbody>\n</table>\n</div>"
     },
     "metadata": {},
     "execution_count": 4
    }
   ],
   "source": [
    "%%time \n",
    "\n",
    "lista.groupby('setor')['codigo'].count().reset_index(name='qtd acoes').sort_values(['qtd acoes'], ascending=False) "
   ]
  },
  {
   "cell_type": "code",
   "execution_count": 5,
   "metadata": {},
   "outputs": [
    {
     "output_type": "stream",
     "name": "stdout",
     "text": [
      "Wall time: 25 ms\n"
     ]
    }
   ],
   "source": [
    "%%time \r\n",
    "\r\n",
    "stock_list = lista[['setor', 'codigo', 'cotacao', 'pl', 'roe', 'div_yield', 'lpa']].sort_values(['setor'], ascending=False).reset_index()\r\n",
    "stock_list['y_codigo'] = (stock_list.codigo + '.SA')"
   ]
  },
  {
   "cell_type": "code",
   "execution_count": 6,
   "metadata": {},
   "outputs": [
    {
     "output_type": "stream",
     "name": "stdout",
     "text": [
      "[*********************100%***********************]  426 of 426 completed\n",
      "Wall time: 18.2 s\n"
     ]
    }
   ],
   "source": [
    "%%time \n",
    "\n",
    "stock_data = yf.download(list(stock_list['y_codigo']),  period = \"2y\")\n",
    "stock_closed = stock_data['Close']"
   ]
  },
  {
   "cell_type": "code",
   "execution_count": 7,
   "metadata": {},
   "outputs": [
    {
     "output_type": "stream",
     "name": "stdout",
     "text": [
      "Wall time: 1.13 s\n"
     ]
    }
   ],
   "source": [
    "%%time \n",
    "\n",
    "mu = mean_historical_return(stock_closed)\n",
    "S = CovarianceShrinkage(stock_closed).ledoit_wolf()"
   ]
  },
  {
   "cell_type": "code",
   "execution_count": 8,
   "metadata": {},
   "outputs": [
    {
     "output_type": "stream",
     "name": "stdout",
     "text": [
      "Expected annual return: 158.6%\nAnnual volatility: 62.1%\nSharpe Ratio: 2.52\nWall time: 2.59 s\n"
     ]
    },
    {
     "output_type": "execute_result",
     "data": {
      "text/plain": [
       "(1.5861335552137, 0.6207610945622705, 2.522924791731767)"
      ]
     },
     "metadata": {},
     "execution_count": 8
    }
   ],
   "source": [
    "%%time \n",
    "\n",
    "# Optimize for maximal Sharpe ratio\n",
    "ef = EfficientFrontier(mu, S)\n",
    "weights = ef.max_sharpe()\n",
    "cleaned_weights = ef.clean_weights()\n",
    "ef.portfolio_performance(verbose=True)"
   ]
  },
  {
   "cell_type": "code",
   "execution_count": null,
   "metadata": {},
   "outputs": [],
   "source": [
    "%%time \n",
    "\n",
    "latest_prices = get_latest_prices(stock_closed)\n",
    "da = DiscreteAllocation(weights, latest_prices, total_portfolio_value=1200)\n",
    "allocation, leftover = da.lp_portfolio()\n",
    "print(allocation)\n",
    "print(leftover)"
   ]
  },
  {
   "cell_type": "code",
   "execution_count": 9,
   "metadata": {},
   "outputs": [
    {
     "output_type": "stream",
     "name": "stdout",
     "text": [
      "Wall time: 1.03 ms\n"
     ]
    }
   ],
   "source": [
    "%%time \n",
    "\n",
    "chosen_stocks = filterTheDict(cleaned_weights, lambda elem: elem[1] > 0)\n",
    "chosen_stocks"
   ]
  },
  {
   "cell_type": "code",
   "execution_count": 35,
   "metadata": {},
   "outputs": [],
   "source": [
    "# import numpy as np\n",
    "# prices = np.isnan(latest_prices)"
   ]
  },
  {
   "cell_type": "code",
   "execution_count": 37,
   "metadata": {},
   "outputs": [
    {
     "output_type": "execute_result",
     "data": {
      "text/plain": [
       "PDTC3.SA    True\n",
       "Name: 2021-03-04 00:00:00, dtype: bool"
      ]
     },
     "metadata": {},
     "execution_count": 37
    }
   ],
   "source": [
    "# prices[prices == True]"
   ]
  }
 ]
}